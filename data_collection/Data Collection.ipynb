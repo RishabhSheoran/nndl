{
 "cells": [
  {
   "cell_type": "code",
   "execution_count": 4,
   "metadata": {},
   "outputs": [
    {
     "name": "stdout",
     "output_type": "stream",
     "text": [
      "Requirement already satisfied: pytube in /usr/local/lib/python3.8/site-packages (11.0.1)\n",
      "Collecting opencv-python\n",
      "  Downloading opencv_python-4.5.4.58-cp38-cp38-macosx_10_15_x86_64.whl (45.5 MB)\n",
      "\u001b[K     |████████████████████████████████| 45.5 MB 3.2 MB/s eta 0:00:01     |████████████████                | 22.7 MB 3.1 MB/s eta 0:00:08     |████████████████████████▍       | 34.7 MB 3.2 MB/s eta 0:00:04     |██████████████████████████████▎ | 43.1 MB 3.6 MB/s eta 0:00:01\n",
      "\u001b[?25hRequirement already satisfied: numpy>=1.17.3 in /usr/local/lib/python3.8/site-packages (from opencv-python) (1.18.5)\n",
      "Installing collected packages: opencv-python\n",
      "Successfully installed opencv-python-4.5.4.58\n"
     ]
    }
   ],
   "source": [
    "import sys\n",
    "!{sys.executable} -m pip install pytube\n",
    "!{sys.executable} -m pip install opencv-python"
   ]
  },
  {
   "cell_type": "markdown",
   "metadata": {},
   "source": [
    "# Data Collection\n",
    "\n",
    "The data is collected by downloading youtube videos using the package ```pytube``` and sampled using a custom class ```FrameExtractor```.\n"
   ]
  },
  {
   "cell_type": "code",
   "execution_count": 6,
   "metadata": {},
   "outputs": [],
   "source": [
    "from pytube import YouTube\n",
    "import os\n",
    "import shutil\n",
    "import math\n",
    "import datetime\n",
    "import matplotlib.pyplot as plt\n",
    "import cv2"
   ]
  },
  {
   "cell_type": "markdown",
   "metadata": {},
   "source": [
    "### class ```FrameExtractor``` has the functions:\n",
    "1. get_video_duration - returns the length of the video\n",
    "2. get_n_images - returns the number of images given a particular sampling rate\n",
    "3. extract_frames - extracts and stores the frames from a given downloaded video"
   ]
  },
  {
   "cell_type": "code",
   "execution_count": 7,
   "metadata": {},
   "outputs": [],
   "source": [
    "class FrameExtractor():\n",
    "    '''\n",
    "    Class used for extracting frames from a video file.\n",
    "    '''\n",
    "    def __init__(self, video_path):\n",
    "        self.video_path = video_path\n",
    "        self.vid_cap = cv2.VideoCapture(video_path)\n",
    "        self.n_frames = int(self.vid_cap.get(cv2.CAP_PROP_FRAME_COUNT))\n",
    "        self.fps = int(self.vid_cap.get(cv2.CAP_PROP_FPS))\n",
    "        \n",
    "    def get_video_duration(self):\n",
    "        duration = self.n_frames/self.fps\n",
    "        print(f'Duration: {datetime.timedelta(seconds=duration)}')\n",
    "        return duration\n",
    "        \n",
    "    def get_n_images(self, every_x_frame):\n",
    "        n_images = math.floor(self.n_frames / every_x_frame) + 1\n",
    "        print(f'Extracting every {every_x_frame} (nd/rd/th) frame resulted in {n_images} images.')\n",
    "        return n_images\n",
    "        \n",
    "    def extract_frames(self, every_x_frame, img_name, dest_path=None, img_ext = '.jpg'):\n",
    "        if not self.vid_cap.isOpened():\n",
    "            self.vid_cap = cv2.VideoCapture(self.video_path)\n",
    "        \n",
    "        if dest_path is None:\n",
    "            dest_path = os.getcwd()\n",
    "        else:\n",
    "            if not os.path.isdir(dest_path):\n",
    "                os.mkdir(dest_path)\n",
    "                print(f'Created the directory: {dest_path}')\n",
    "        \n",
    "        frame_cnt = 0\n",
    "        img_cnt = 0\n",
    "\n",
    "        while self.vid_cap.isOpened():\n",
    "            \n",
    "            success,image = self.vid_cap.read() \n",
    "            \n",
    "            if not success:\n",
    "                break\n",
    "            \n",
    "            if frame_cnt % every_x_frame == 0:\n",
    "                img_path = os.path.join(dest_path, ''.join([img_name, '_', str(img_cnt), img_ext]))\n",
    "                cv2.imwrite(img_path, image)  \n",
    "                img_cnt += 1\n",
    "                \n",
    "            frame_cnt += 1\n",
    "        \n",
    "        self.vid_cap.release()\n",
    "        cv2.destroyAllWindows()\n"
   ]
  },
  {
   "cell_type": "markdown",
   "metadata": {},
   "source": [
    "### Downloading and sampling the videos\n",
    "\n",
    "The links to the Youtube videos are obtained from a file called ```links.txt``` which is manually fed in.\n",
    "We have chosen all videos from Season 5 of F.R.I.E.N.D.S.\n",
    "\n",
    "We also extract:\n",
    "1. ```last_video_index``` : index of the last downloaded video\n",
    "2. ``` last_sampled_index``` :  index of the last sampled video \n",
    "\n",
    "This ensures no work is redone when we add more videos to increase the size of the dataset."
   ]
  },
  {
   "cell_type": "code",
   "execution_count": 10,
   "metadata": {},
   "outputs": [
    {
     "name": "stdout",
     "output_type": "stream",
     "text": [
      "Last downloaded video index: 0\n",
      "Last sampled video index: 0\n"
     ]
    }
   ],
   "source": [
    "with open('links.txt') as file:\n",
    "    urls = file.readlines()\n",
    "\n",
    "path_videos = \"../data/videos/\"    \n",
    "path_images = \"../data/raw_images/\"\n",
    "\n",
    "image_dir = os.listdir(path_images)\n",
    "\n",
    "last_video_index = 0\n",
    "last_sampled_index = 0\n",
    "\n",
    "try: last_video_index = int(os.listdir(path_videos)[-1].split('_')[0])\n",
    "except: pass\n",
    "\n",
    "try: last_sampled_index = int(image_dir[-1].split('_')[0])\n",
    "except: pass\n",
    "    \n",
    "print(\"Last downloaded video index:\", last_video_index)\n",
    "print(\"Last sampled video index:\", last_sampled_index)"
   ]
  },
  {
   "cell_type": "markdown",
   "metadata": {},
   "source": [
    "```image_count``` keeps track of the number of images sampled and ```total_duration``` keeps track of the length of the videos sampled.\n",
    "\n",
    "\n",
    "1. The video is downloaded using pytube's ```Youtube``` class and the URL from ```links.txt``` \n",
    "2. The video is sampled using the ```FrameExtractor``` class from above.\n",
    "3. Relevant information is extracted and displayed."
   ]
  },
  {
   "cell_type": "code",
   "execution_count": 12,
   "metadata": {},
   "outputs": [
    {
     "name": "stdout",
     "output_type": "stream",
     "text": [
      "0_8wewPn7TZfs\n",
      "Downloaded video 0_8wewPn7TZfs\n",
      "Duration: 0:05:00.826087\n",
      "Extracting every 24 (nd/rd/th) frame resulted in 289 images.\n",
      "Sampled video 0_8wewPn7TZfs\n",
      "\n",
      "1_Uyq66PLCvvY\n",
      "Downloaded video 1_Uyq66PLCvvY\n",
      "Duration: 0:05:00.652174\n",
      "Extracting every 24 (nd/rd/th) frame resulted in 289 images.\n",
      "Sampled video 1_Uyq66PLCvvY\n",
      "\n",
      "2_nzDJdZLPeGE\n",
      "Downloaded video 2_nzDJdZLPeGE\n",
      "Duration: 0:05:05\n",
      "Extracting every 24 (nd/rd/th) frame resulted in 293 images.\n",
      "Sampled video 2_nzDJdZLPeGE\n",
      "\n",
      "3_eT_Gzi0HN4E\n",
      "Downloaded video 3_eT_Gzi0HN4E\n",
      "Duration: 0:04:12.956522\n",
      "Extracting every 24 (nd/rd/th) frame resulted in 243 images.\n",
      "Sampled video 3_eT_Gzi0HN4E\n",
      "\n",
      "4_AtiMqeDmo1M\n",
      "Downloaded video 4_AtiMqeDmo1M\n",
      "Duration: 0:04:14.869565\n",
      "Extracting every 24 (nd/rd/th) frame resulted in 245 images.\n",
      "Sampled video 4_AtiMqeDmo1M\n",
      "\n",
      "5_oSi_pbzIYng\n",
      "Downloaded video 5_oSi_pbzIYng\n",
      "Duration: 0:04:12.217391\n",
      "Extracting every 24 (nd/rd/th) frame resulted in 242 images.\n",
      "Sampled video 5_oSi_pbzIYng\n",
      "\n",
      "6_aKlLgwyqsqY\n",
      "Downloaded video 6_aKlLgwyqsqY\n",
      "Duration: 0:04:00.521739\n",
      "Extracting every 24 (nd/rd/th) frame resulted in 231 images.\n",
      "Sampled video 6_aKlLgwyqsqY\n",
      "\n",
      "7_XbywiblA1eQ\n",
      "Downloaded video 7_XbywiblA1eQ\n",
      "Duration: 0:04:49.782609\n",
      "Extracting every 24 (nd/rd/th) frame resulted in 278 images.\n",
      "Sampled video 7_XbywiblA1eQ\n",
      "\n",
      "8_t68chqjlDC8\n",
      "Downloaded video 8_t68chqjlDC8\n",
      "Duration: 0:04:05.434783\n",
      "Extracting every 24 (nd/rd/th) frame resulted in 236 images.\n",
      "Sampled video 8_t68chqjlDC8\n",
      "\n",
      "9_5dQZaL5axsw\n",
      "Downloaded video 9_5dQZaL5axsw\n",
      "Duration: 0:04:52.086957\n",
      "Extracting every 24 (nd/rd/th) frame resulted in 280 images.\n",
      "Sampled video 9_5dQZaL5axsw\n",
      "\n",
      "10_hWKgnMaxAIE\n",
      "Downloaded video 10_hWKgnMaxAIE\n",
      "Duration: 0:04:58.043478\n",
      "Extracting every 24 (nd/rd/th) frame resulted in 286 images.\n",
      "Sampled video 10_hWKgnMaxAIE\n",
      "\n",
      "11_r-Or05EFLUM\n",
      "Downloaded video 11_r-Or05EFLUM\n",
      "Duration: 0:04:18.304348\n",
      "Extracting every 24 (nd/rd/th) frame resulted in 248 images.\n",
      "Sampled video 11_r-Or05EFLUM\n",
      "\n",
      "12_xLNJfAYgvkw\n",
      "Downloaded video 12_xLNJfAYgvkw\n",
      "Duration: 0:04:38.739130\n",
      "Extracting every 24 (nd/rd/th) frame resulted in 268 images.\n",
      "Sampled video 12_xLNJfAYgvkw\n",
      "\n",
      "13_A0N9YF2jfiw\n",
      "Downloaded video 13_A0N9YF2jfiw\n",
      "Duration: 0:04:41.695652\n",
      "Extracting every 24 (nd/rd/th) frame resulted in 270 images.\n",
      "Sampled video 13_A0N9YF2jfiw\n",
      "\n",
      "14_XZVHmRvfDHM\n",
      "Downloaded video 14_XZVHmRvfDHM\n",
      "Duration: 0:03:31.565217\n",
      "Extracting every 24 (nd/rd/th) frame resulted in 203 images.\n",
      "Sampled video 14_XZVHmRvfDHM\n",
      "\n",
      "Total duration of the videos = 4062.6956521739125\n",
      "Total number of images = 3902\n"
     ]
    }
   ],
   "source": [
    "image_count = len(image_dir)\n",
    "total_duration = 0\n",
    "\n",
    "for index, video_url in enumerate(urls):\n",
    "    video_url = video_url.strip()\n",
    "    \n",
    "    # Extracting code from the URL\n",
    "    code = video_url[video_url.index('=')+1:]\n",
    "    image_name = '{}_{}'.format(index, code)\n",
    "    print(image_name)\n",
    "    \n",
    "    # Downloading the video \n",
    "    \n",
    "    yt = YouTube(video_url)\n",
    "    yt = yt.streams.filter(file_extension='mp4', res='144p').first()\n",
    "    fps = yt.fps\n",
    "    \n",
    "    # Checking if it has already been downloaded\n",
    "    if index > last_video_index or last_video_index == 0: \n",
    "        video = yt.download(path_videos, filename=image_name+\".mp4\")\n",
    "        print(\"Downloaded video {}_{}\".format(index, code))\n",
    "    \n",
    "    \n",
    "    # Extracting frames from the video per second\n",
    "    \n",
    "    fe = FrameExtractor(video)\n",
    "    duration = fe.get_video_duration()\n",
    "    n_images = fe.get_n_images(every_x_frame=fps)\n",
    "    \n",
    "    # Checking if it has already been sampled\n",
    "    if index > last_sampled_index or last_sampled_index == 0:\n",
    "        fe.extract_frames(every_x_frame=fps, \n",
    "                          img_name=image_name, \n",
    "                          dest_path=path_images)\n",
    "        print(\"Sampled video {}_{}\".format(index, code))\n",
    "        \n",
    "    \n",
    "    total_duration += duration\n",
    "    image_count += n_images\n",
    "    \n",
    "    print()\n",
    "    \n",
    "print(\"Total duration of the videos =\", total_duration)\n",
    "print(\"Total number of images =\", image_count)"
   ]
  },
  {
   "cell_type": "markdown",
   "metadata": {},
   "source": [
    "### Resizing all of the images to a fixed size"
   ]
  },
  {
   "cell_type": "code",
   "execution_count": 17,
   "metadata": {},
   "outputs": [
    {
     "name": "stdout",
     "output_type": "stream",
     "text": [
      "Reshaped all images to (256, 144)\n"
     ]
    }
   ],
   "source": [
    "from PIL import Image\n",
    "\n",
    "f = r'../data/raw_images/'\n",
    "width, height = 256, 144\n",
    "\n",
    "for file in os.listdir(f):\n",
    "    if file.startswith('.'): continue\n",
    "    f_img = f+\"/\"+file\n",
    "    img = Image.open(f_img)\n",
    "    img = img.resize((width, height))\n",
    "    img.save(f_img)\n",
    "\n",
    "print(\"Reshaped all images to ({}, {})\".format(width, height))"
   ]
  },
  {
   "cell_type": "code",
   "execution_count": null,
   "metadata": {},
   "outputs": [],
   "source": []
  }
 ],
 "metadata": {
  "kernelspec": {
   "display_name": "Python 3",
   "language": "python",
   "name": "python3"
  }
 },
 "nbformat": 4,
 "nbformat_minor": 4
}
