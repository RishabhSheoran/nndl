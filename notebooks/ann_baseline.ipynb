{
 "cells": [
  {
   "cell_type": "markdown",
   "id": "95f512f3-97fa-43c3-b746-58dbba0ce42f",
   "metadata": {},
   "source": [
    "# ANN Baseline"
   ]
  },
  {
   "cell_type": "code",
   "execution_count": null,
   "id": "0d7aaba1-0aec-46fa-aff7-485fca0f5ef9",
   "metadata": {
    "tags": []
   },
   "outputs": [],
   "source": [
    "import sys\n",
    "\n",
    "sys.path.append(\"..\")"
   ]
  },
  {
   "cell_type": "code",
   "execution_count": null,
   "id": "ffe10f9b-960c-4d4d-913a-8e238ae2725f",
   "metadata": {
    "tags": []
   },
   "outputs": [],
   "source": [
    "import torch\n",
    "import torch.nn as nn\n",
    "import torch.nn.functional as F\n",
    "import torch.optim as optim\n",
    "\n",
    "\n",
    "import numpy as np\n",
    "import pandas as pd\n",
    "import matplotlib.pyplot as plt\n",
    "\n",
    "from torch.utils.data import DataLoader\n",
    "from einops import rearrange  # ! pip install einops\n",
    "\n",
    "from src.dataset import ImageDataset, CLASSES\n",
    "from src.utils import get_error"
   ]
  },
  {
   "cell_type": "markdown",
   "id": "be08b442-a101-4a8d-b187-5c6158c1bf12",
   "metadata": {
    "tags": []
   },
   "source": [
    "## Model definition"
   ]
  },
  {
   "cell_type": "code",
   "execution_count": null,
   "id": "9db200f2-b2b3-4435-b8bc-b66938d3b8cd",
   "metadata": {
    "tags": []
   },
   "outputs": [],
   "source": [
    "PATCH_SIZE = 16\n",
    "\n",
    "\n",
    "def generate_positional_encoding(seq_length, dim):\n",
    "    assert dim == 2 * (dim // 2)  # check if dim is divisible by 2\n",
    "    pe = torch.zeros(seq_length, dim)\n",
    "    position = torch.arange(0, seq_length, dtype=torch.float).unsqueeze(1)\n",
    "    div_term = torch.exp(\n",
    "        torch.arange(0, dim, 2).float() * (-torch.log(torch.tensor(10000.0)) / dim)\n",
    "    )\n",
    "    pe[:, 0::2] = torch.sin(position * div_term)\n",
    "    pe[:, 1::2] = torch.cos(position * div_term)\n",
    "    return pe\n",
    "\n",
    "\n",
    "class Transformer_encoder(nn.Module):\n",
    "    def __init__(self, hidden_size, nb_heads):\n",
    "        super(Transformer_encoder, self).__init__()\n",
    "        assert hidden_size == nb_heads * (hidden_size // nb_heads)\n",
    "        self.MHA = nn.MultiheadAttention(hidden_size, nb_heads)\n",
    "        self.LLcat = nn.Linear(2 * hidden_size, hidden_size)\n",
    "        self.LL1 = nn.Linear(hidden_size, hidden_size)\n",
    "        self.LL2 = nn.Linear(hidden_size, hidden_size)\n",
    "        self.LN1 = nn.LayerNorm(hidden_size)\n",
    "        self.LN2 = nn.LayerNorm(hidden_size)\n",
    "\n",
    "    def forward(self, g_seq, pos=None):\n",
    "        seq_length = g_seq.size(0)\n",
    "        bs = g_seq.size(1)\n",
    "        pos = pos.unsqueeze(dim=1).repeat_interleave(\n",
    "            bs, dim=1\n",
    "        )  # size=(seq_length, bs, hidden_dim)\n",
    "\n",
    "        h_cat = self.LLcat(\n",
    "            torch.cat((g_seq, pos), dim=2)\n",
    "        )  # size=(seq_length, bs, hidden_dim)\n",
    "\n",
    "        h_MHA_seq, _ = self.MHA(h_cat, h_cat, h_cat)\n",
    "        h = self.LN1(h_cat + h_MHA_seq)\n",
    "\n",
    "        h_MLP = self.LL2(torch.relu(self.LL1(h)))  # size=(1, bs, hidden_dim)\n",
    "        h_seq = self.LN2(h + h_MLP)  # size=(1, bs, hidden_dim)\n",
    "        return h_seq\n",
    "\n",
    "\n",
    "class MultiLabelANN(nn.Module):\n",
    "    def __init__(self, hidden_size, nb_heads, no_classes):\n",
    "        super(MultiLabelANN, self).__init__()\n",
    "\n",
    "        self.cls_token = nn.Parameter(torch.randn(1, 1, hidden_size))\n",
    "        self.encoder = Transformer_encoder(hidden_size, nb_heads)\n",
    "        self.LL = nn.Linear(hidden_size, no_classes)\n",
    "        \n",
    "\n",
    "    def expand_cls_to_batch(self, batch):\n",
    "        \"\"\"\n",
    "        Args:\n",
    "            batch: batch size\n",
    "        Returns: cls token expanded to the batch size\n",
    "        \"\"\"\n",
    "        return self.cls_token.expand([batch, -1, -1])\n",
    "\n",
    "    def forward(self, img, pos=None):\n",
    "        bs = img.shape[0]\n",
    "        img_patches = rearrange(\n",
    "            img,\n",
    "            \"b c (patch_x x) (patch_y y) -> b (x y) (patch_x patch_y c)\",\n",
    "            patch_x=PATCH_SIZE,\n",
    "            patch_y=PATCH_SIZE,\n",
    "        )\n",
    "\n",
    "        img_patches = torch.cat((self.expand_cls_to_batch(bs), img_patches), dim=1)\n",
    "\n",
    "        h_seq = self.encoder(img_patches, pos)\n",
    "        \n",
    "        score_seq = self.LL(h_seq[:, 0, :])\n",
    "\n",
    "        return score_seq"
   ]
  },
  {
   "cell_type": "code",
   "execution_count": null,
   "id": "61874ff8-7c65-44e2-a2b0-ff74b71cff05",
   "metadata": {
    "tags": []
   },
   "outputs": [],
   "source": [
    "BATCH_SIZE = 1\n",
    "train_data = ImageDataset(train=True)\n",
    "valid_data = ImageDataset(train=False)\n",
    "\n",
    "train_loader = DataLoader(train_data, batch_size=BATCH_SIZE, shuffle=True)\n",
    "valid_loader = DataLoader(valid_data, batch_size=BATCH_SIZE, shuffle=False)"
   ]
  },
  {
   "cell_type": "code",
   "execution_count": null,
   "id": "39d533b4-70a8-4e2f-89e8-948d7757cec2",
   "metadata": {
    "tags": []
   },
   "outputs": [],
   "source": [
    "### Check if inference works correctly\n",
    "\n",
    "# nb_heads = 16\n",
    "# hidden_size = 768\n",
    "# no_classes = 6\n",
    "\n",
    "# net = MultiLabelANN(hidden_size, nb_heads, no_classes)\n",
    "# print(net)\n",
    "# dataiter = iter(train_loader)\n",
    "# images, labels = dataiter.next().values()\n",
    "# seq_length = 144\n",
    "# pos = generate_positional_encoding(BATCH_SIZE, 768)\n",
    "# scores = net(images.view(BATCH_SIZE, 3, 144, 256), pos)\n",
    "# scores.shape\n",
    "# print(scores)\n",
    "# scores = torch.sigmoid(scores)\n",
    "# scores"
   ]
  },
  {
   "cell_type": "code",
   "execution_count": null,
   "id": "38cef678-1fcd-4b0e-b518-0900a4ed762b",
   "metadata": {
    "tags": []
   },
   "outputs": [],
   "source": [
    "# Used in creating data loaders as well as in train loops\n",
    "N_EPOCHS = 10\n",
    "LR = 0.001\n",
    "\n",
    "NUM_HEADS = 16\n",
    "HIDDEN_SIZE = 768\n",
    "NUM_CLASSES = 6"
   ]
  },
  {
   "cell_type": "markdown",
   "id": "718ea345-911c-488f-99c5-d103f2e93d93",
   "metadata": {},
   "source": [
    "### Model instantiation"
   ]
  },
  {
   "cell_type": "code",
   "execution_count": null,
   "id": "d90a1757-10d2-4045-bfd1-60d89f651a42",
   "metadata": {
    "tags": []
   },
   "outputs": [],
   "source": [
    "# Device\n",
    "device = torch.device(\"cuda:0\" if torch.cuda.is_available() else \"cpu\")\n",
    "\n",
    "# Model instance\n",
    "model = MultiLabelANN(HIDDEN_SIZE, NUM_HEADS, NUM_CLASSES)\n",
    "model = model.to(device)\n",
    "criterion = nn.BCEWithLogitsLoss()\n",
    "optimizer = optim.Adam(model.parameters(), lr=LR)"
   ]
  },
  {
   "cell_type": "markdown",
   "id": "580e48b8-efd0-4216-998b-b3fd2bb02e21",
   "metadata": {},
   "source": [
    "### Train"
   ]
  },
  {
   "cell_type": "code",
   "execution_count": null,
   "id": "0d632b89-0a81-46a1-82ee-a93f4e841a08",
   "metadata": {
    "tags": []
   },
   "outputs": [],
   "source": [
    "for epoch in range(N_EPOCHS):  # loop over the dataset multiple times\n",
    "    train_running_loss = 0.0\n",
    "    train_err = 0.0\n",
    "    model.train()\n",
    "\n",
    "    # TRAINING ROUND\n",
    "    for i, data in enumerate(train_loader):\n",
    "        # zero the parameter gradients\n",
    "        optimizer.zero_grad()\n",
    "\n",
    "        # get the inputs\n",
    "        inputs, labels = data.values()\n",
    "\n",
    "        inputs = inputs.view(BATCH_SIZE, 3, 144, 256)\n",
    "        inputs = inputs.to(device)\n",
    "        labels = labels.to(device)\n",
    "\n",
    "        pos = generate_positional_encoding(BATCH_SIZE, 768)\n",
    "        pos = pos.to(device)\n",
    "\n",
    "        outputs = model(inputs, pos)\n",
    "\n",
    "        labels.squeeze_()\n",
    "        outputs.squeeze_()\n",
    "        loss = criterion(outputs, labels)\n",
    "        loss.backward()\n",
    "        optimizer.step()\n",
    "\n",
    "        train_running_loss += loss.detach().item()\n",
    "        train_err += get_error(outputs.detach(), labels, BATCH_SIZE)\n",
    "\n",
    "    model.eval()\n",
    "    print(\n",
    "        \"Epoch:  %d | Loss: %.4f | Train Error: %.4f\"\n",
    "        % (epoch, train_running_loss / i, train_err / i)\n",
    "    )"
   ]
  },
  {
   "cell_type": "markdown",
   "id": "2130c8d0-f222-460f-ac90-a349ec7821b2",
   "metadata": {
    "tags": []
   },
   "source": [
    "### Test"
   ]
  },
  {
   "cell_type": "code",
   "execution_count": null,
   "id": "ce7a83af-ce93-46a6-bfdd-58ae6dd27d49",
   "metadata": {
    "tags": []
   },
   "outputs": [],
   "source": [
    "test_err = 0.0\n",
    "for i, data in enumerate(valid_loader, 0):\n",
    "    inputs, labels = data.values()\n",
    "\n",
    "    pos = generate_positional_encoding(BATCH_SIZE, 768)\n",
    "    pos = pos.to(device)\n",
    "\n",
    "    outputs = model(inputs.view(BATCH_SIZE, 3, 144, 256).to(device), pos)\n",
    "    outputs = torch.sigmoid(outputs)\n",
    "    #     print((outputs.detach() > 0.5).float(), labels)\n",
    "\n",
    "    test_err += get_error(outputs.detach(), labels.to(device), BATCH_SIZE)\n",
    "\n",
    "print(\"Validation Error: %.4f\" % (test_err / i))"
   ]
  },
  {
   "cell_type": "code",
   "execution_count": null,
   "id": "4ae0debd-7d26-4b16-b2a8-4d61d97368a0",
   "metadata": {
    "tags": []
   },
   "outputs": [],
   "source": [
    "actors = np.array(CLASSES)\n",
    "print(\"actors: \", actors)"
   ]
  },
  {
   "cell_type": "code",
   "execution_count": null,
   "id": "cd7498bc",
   "metadata": {
    "tags": []
   },
   "outputs": [],
   "source": [
    "model.eval()\n",
    "test_running_error = 0.0\n",
    "output_list = []\n",
    "target_list = []\n",
    "for counter, data in enumerate(valid_loader):\n",
    "\n",
    "    image, target = data[\"image\"].to(device), data[\"label\"]\n",
    "    # get all the index positions where value == 1\n",
    "    target_indices = [i for i in range(len(target[0])) if target[0][i] == 1]\n",
    "\n",
    "    pos = generate_positional_encoding(BATCH_SIZE, 768)\n",
    "\n",
    "    outputs = model(image, pos.to(device))\n",
    "    outputs = torch.sigmoid(outputs)\n",
    "    outputs = outputs.detach().cpu()\n",
    "    lab = torch.where(outputs >= 0.5, 1, 0)[0]\n",
    "    pred = torch.where(lab == 1)\n",
    "    error = get_error(outputs, target, 1)\n",
    "\n",
    "    output_list.append(outputs.numpy())\n",
    "    target_list.append(target.numpy())\n",
    "\n",
    "    test_running_error += error\n",
    "\n",
    "    string_predicted = \"\"\n",
    "    string_actual = \"\"\n",
    "    for i in range(len(pred)):\n",
    "        string_predicted += f\"{actors[pred[i]]}    \"\n",
    "    for i in range(len(target_indices)):\n",
    "        string_actual += f\"{actors[target_indices[i]]}    \"\n",
    "\n",
    "    if 10 < counter < 20:\n",
    "        image = image.squeeze(0)\n",
    "        image = image.detach().cpu().numpy()\n",
    "        image = np.transpose(image, (1, 2, 0))\n",
    "        plt.imshow(image)\n",
    "        plt.axis(\"off\")\n",
    "        plt.title(f\"PREDICTED: {string_predicted}\\nACTUAL: {string_actual}\")\n",
    "        plt.show()\n",
    "\n",
    "test_error = test_running_error / counter\n",
    "print(f\"Test Error: {test_error} %\")\n",
    "\n",
    "out = np.array(output_list).squeeze(axis=1)\n",
    "tar = np.array(target_list).squeeze(axis=1)"
   ]
  }
 ],
 "metadata": {
  "kernelspec": {
   "display_name": "Python 3 (ipykernel)",
   "language": "python",
   "name": "python3"
  },
  "language_info": {
   "codemirror_mode": {
    "name": "ipython",
    "version": 3
   },
   "file_extension": ".py",
   "mimetype": "text/x-python",
   "name": "python",
   "nbconvert_exporter": "python",
   "pygments_lexer": "ipython3",
   "version": "3.9.5"
  }
 },
 "nbformat": 4,
 "nbformat_minor": 5
}
