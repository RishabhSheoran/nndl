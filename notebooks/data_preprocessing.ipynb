{
 "cells": [
  {
   "cell_type": "markdown",
   "metadata": {
    "tags": []
   },
   "source": [
    "## README\n",
    "\n",
    "\n",
    "1. Update START_IDX and END_IDX variables with the index assigned to you\n",
    "2. Select Run -> Run All Cells\n",
    "3. Scroll all the way to the bottom and begin labelling images\n",
    "4. Note that each entry is saved on disk with every click of Prev, Save and Next buttons\n",
    "5. If you have to step away while labelling (or your system has to restart for some reason), don't worry about starting all over. When you return back, just run all cells and it will start with the last image you were labelling and you can continue from there"
   ]
  },
  {
   "cell_type": "code",
   "execution_count": 1,
   "metadata": {
    "tags": []
   },
   "outputs": [],
   "source": [
    "# import torch\n",
    "# import cv2\n",
    "import numpy as np\n",
    "import pandas as pd\n",
    "import os\n",
    "import matplotlib.pyplot as plt\n",
    "import ipywidgets as widgets\n",
    "import logging"
   ]
  },
  {
   "cell_type": "code",
   "execution_count": 4,
   "metadata": {
    "tags": []
   },
   "outputs": [],
   "source": [
    "# Set default logging level\n",
    "# Change to logging.INFO to see related output\n",
    "logging.basicConfig(level=logging.WARNING, force=True)"
   ]
  },
  {
   "cell_type": "code",
   "execution_count": 5,
   "metadata": {
    "tags": []
   },
   "outputs": [],
   "source": [
    "START_IDX = 666\n",
    "END_IDX = 999"
   ]
  },
  {
   "cell_type": "code",
   "execution_count": 6,
   "metadata": {
    "tags": []
   },
   "outputs": [
    {
     "name": "stdout",
     "output_type": "stream",
     "text": [
      "Found 3759 files to process\n"
     ]
    },
    {
     "data": {
      "text/html": [
       "<div>\n",
       "<style scoped>\n",
       "    .dataframe tbody tr th:only-of-type {\n",
       "        vertical-align: middle;\n",
       "    }\n",
       "\n",
       "    .dataframe tbody tr th {\n",
       "        vertical-align: top;\n",
       "    }\n",
       "\n",
       "    .dataframe thead th {\n",
       "        text-align: right;\n",
       "    }\n",
       "</style>\n",
       "<table border=\"1\" class=\"dataframe\">\n",
       "  <thead>\n",
       "    <tr style=\"text-align: right;\">\n",
       "      <th></th>\n",
       "      <th>video_index</th>\n",
       "      <th>image_frame_id</th>\n",
       "      <th>filepath</th>\n",
       "    </tr>\n",
       "    <tr>\n",
       "      <th>filename</th>\n",
       "      <th></th>\n",
       "      <th></th>\n",
       "      <th></th>\n",
       "    </tr>\n",
       "  </thead>\n",
       "  <tbody>\n",
       "    <tr>\n",
       "      <th>0_8wewPn7TZfs_0.jpg</th>\n",
       "      <td>0</td>\n",
       "      <td>0</td>\n",
       "      <td>../data/raw_images/0_8wewPn7TZfs_0.jpg</td>\n",
       "    </tr>\n",
       "    <tr>\n",
       "      <th>0_8wewPn7TZfs_1.jpg</th>\n",
       "      <td>0</td>\n",
       "      <td>1</td>\n",
       "      <td>../data/raw_images/0_8wewPn7TZfs_1.jpg</td>\n",
       "    </tr>\n",
       "    <tr>\n",
       "      <th>0_8wewPn7TZfs_2.jpg</th>\n",
       "      <td>0</td>\n",
       "      <td>2</td>\n",
       "      <td>../data/raw_images/0_8wewPn7TZfs_2.jpg</td>\n",
       "    </tr>\n",
       "    <tr>\n",
       "      <th>0_8wewPn7TZfs_3.jpg</th>\n",
       "      <td>0</td>\n",
       "      <td>3</td>\n",
       "      <td>../data/raw_images/0_8wewPn7TZfs_3.jpg</td>\n",
       "    </tr>\n",
       "    <tr>\n",
       "      <th>0_8wewPn7TZfs_4.jpg</th>\n",
       "      <td>0</td>\n",
       "      <td>4</td>\n",
       "      <td>../data/raw_images/0_8wewPn7TZfs_4.jpg</td>\n",
       "    </tr>\n",
       "  </tbody>\n",
       "</table>\n",
       "</div>"
      ],
      "text/plain": [
       "                     video_index  image_frame_id  \\\n",
       "filename                                           \n",
       "0_8wewPn7TZfs_0.jpg            0               0   \n",
       "0_8wewPn7TZfs_1.jpg            0               1   \n",
       "0_8wewPn7TZfs_2.jpg            0               2   \n",
       "0_8wewPn7TZfs_3.jpg            0               3   \n",
       "0_8wewPn7TZfs_4.jpg            0               4   \n",
       "\n",
       "                                                   filepath  \n",
       "filename                                                     \n",
       "0_8wewPn7TZfs_0.jpg  ../data/raw_images/0_8wewPn7TZfs_0.jpg  \n",
       "0_8wewPn7TZfs_1.jpg  ../data/raw_images/0_8wewPn7TZfs_1.jpg  \n",
       "0_8wewPn7TZfs_2.jpg  ../data/raw_images/0_8wewPn7TZfs_2.jpg  \n",
       "0_8wewPn7TZfs_3.jpg  ../data/raw_images/0_8wewPn7TZfs_3.jpg  \n",
       "0_8wewPn7TZfs_4.jpg  ../data/raw_images/0_8wewPn7TZfs_4.jpg  "
      ]
     },
     "execution_count": 6,
     "metadata": {},
     "output_type": "execute_result"
    }
   ],
   "source": [
    "RAW_IMAGES_DIR = \"../data/raw_images/\"\n",
    "\n",
    "TARGET_FILE_PATH = f\"../data/processed/{START_IDX}_to_{END_IDX}.csv\"\n",
    "LABEL_DF_COLUMNS = [\"filename\", \"chandler\", \"joey\", \"monica\", \"phoebe\", \"rachel\", \"ross\",]\n",
    "POSSIBLE_CHARACTERS = [\n",
    "    \"chandler\",\n",
    "    \"joey\",\n",
    "    \"monica\",\n",
    "    \"phoebe\",\n",
    "    \"rachel\",\n",
    "    \"ross\",\n",
    "]\n",
    "\n",
    "\n",
    "raw_image_info = []\n",
    "for filename in os.listdir(RAW_IMAGES_DIR):\n",
    "    if filename.endswith(\".jpg\"):\n",
    "        raw_image_info.append(\n",
    "            (\n",
    "                filename,\n",
    "                int(filename.split(\"_\")[0]),\n",
    "                int(filename.split(\"_\")[-1][:-4]),\n",
    "                os.path.join(RAW_IMAGES_DIR, filename),\n",
    "            )\n",
    "        )\n",
    "    else:\n",
    "        print(f\"Found non-image file {filename} in given folder {RAW_IMAGES_DIR}\")\n",
    "\n",
    "\n",
    "image_info_df = pd.DataFrame(\n",
    "    raw_image_info, columns=[\"filename\", \"video_index\", \"image_frame_id\", \"filepath\"]\n",
    ")\n",
    "image_info_df.set_index([\"filename\"], inplace=True)\n",
    "image_info_df.sort_values(\n",
    "    [\"video_index\", \"image_frame_id\"], ascending=True, inplace=True\n",
    ")\n",
    "\n",
    "print(f\"Found {len(image_info_df)} files to process\")\n",
    "\n",
    "if len(image_info_df[image_info_df.index.duplicated(keep=\"first\")]):\n",
    "    raise ValueError(\n",
    "        f\"Found duplicate files in {image_info_df[image_info_df.index.duplicated(keep='first')]} - check and remove duplicates\"\n",
    "    )\n",
    "\n",
    "image_info_df.head()"
   ]
  },
  {
   "cell_type": "code",
   "execution_count": 7,
   "metadata": {
    "tags": []
   },
   "outputs": [],
   "source": [
    "filtered_image_info_df = image_info_df.iloc[START_IDX:END_IDX]\n",
    "\n",
    "def get_labelled_image_info():\n",
    "    if os.path.exists(TARGET_FILE_PATH):\n",
    "        labelled_image_info = pd.read_csv(TARGET_FILE_PATH)\n",
    "        logging.info(\n",
    "            f\"{len(labelled_image_info)} images processed so far between indices {START_IDX} and {END_IDX}\"\n",
    "        )\n",
    "    else:\n",
    "        logging.info(f\"Creating file {TARGET_FILE_PATH} for storing label information\")\n",
    "        labelled_image_info = pd.DataFrame(\n",
    "            columns=LABEL_DF_COLUMNS\n",
    "        )\n",
    "\n",
    "    labelled_image_info.set_index([\"filename\"], inplace=True)\n",
    "    return labelled_image_info"
   ]
  },
  {
   "cell_type": "code",
   "execution_count": 8,
   "metadata": {
    "tags": []
   },
   "outputs": [],
   "source": [
    "PROGRESS_TEMPLATE = \"{0}/{1}\"\n",
    "curr_start_index = len(get_labelled_image_info())\n",
    "progress_widget = widgets.IntProgress(\n",
    "    value=curr_start_index,\n",
    "    min=0,\n",
    "    max=len(filtered_image_info_df),\n",
    "    description=\"Progress:\",\n",
    "    bar_style=\"success\",\n",
    "    orientation=\"horizontal\",\n",
    ")\n",
    "\n",
    "header_label = widgets.HTML(f\"<b>Processing images from index {START_IDX} to {END_IDX}</b>\")\n",
    "progress_label = widgets.Label(\n",
    "    value=PROGRESS_TEMPLATE.format(progress_widget.value + 1, END_IDX - START_IDX)\n",
    ")\n",
    "\n",
    "radio_buttons = [\n",
    "    widgets.RadioButtons(\n",
    "        options=[(\"Yes\", 1), (\"No\", 0)], value=0, description=character.title()\n",
    "    )\n",
    "    for character in POSSIBLE_CHARACTERS\n",
    "]\n",
    "image = widgets.Image(width=500, height=500,)\n",
    "prev_button = widgets.Button(\n",
    "    description=\"Previous\",\n",
    "    button_style=\"info\",\n",
    "    tooltip=\"Modify previous image\",\n",
    "    icon=\"long-arrow-alt-left\",\n",
    ")\n",
    "next_button = widgets.Button(\n",
    "    description=\"Next\",\n",
    "    button_style=\"info\",\n",
    "    tooltip=\"Modify next image\",\n",
    "    icon=\"long-arrow-alt-right\",\n",
    ")\n",
    "save_button = widgets.Button(\n",
    "    description=\"Save\", button_style=\"success\", tooltip=\"Save label info\", icon=\"save\",\n",
    ")\n",
    "output_widget = widgets.Output()"
   ]
  },
  {
   "cell_type": "code",
   "execution_count": 9,
   "metadata": {
    "tags": []
   },
   "outputs": [],
   "source": [
    "def save_curr_app_state_to_disk():\n",
    "    curr_image_info = {radio_button.description.lower(): radio_button.value for radio_button in radio_buttons}\n",
    "    curr_image_info.update({\"filename\": filtered_image_info_df.iloc[progress_widget.value].name})\n",
    "    curr_image_df = pd.DataFrame([curr_image_info], columns=LABEL_DF_COLUMNS)\n",
    "    curr_image_df.set_index(\"filename\", inplace=True)\n",
    "    labelled_image_info = get_labelled_image_info()\n",
    "    labelled_image_info = curr_image_df.combine_first(labelled_image_info)\n",
    "    labelled_image_info.to_csv(TARGET_FILE_PATH)\n",
    "\n",
    "\n",
    "def update_prev_button(btn):\n",
    "    save_curr_app_state_to_disk()\n",
    "    \n",
    "    if progress_widget.value != 0:\n",
    "        progress_widget.value -= 1\n",
    "\n",
    "    progress_label.value = PROGRESS_TEMPLATE.format(\n",
    "        progress_widget.value + 1, END_IDX - START_IDX\n",
    "    )\n",
    "    update_out()\n",
    "\n",
    "\n",
    "def update_next_button(btn):\n",
    "    save_curr_app_state_to_disk()\n",
    "    if progress_widget.value != END_IDX:\n",
    "        print(\"in here\")\n",
    "        progress_widget.value += 1\n",
    "\n",
    "    progress_label.value = PROGRESS_TEMPLATE.format(\n",
    "        progress_widget.value + 1, END_IDX - START_IDX\n",
    "    )\n",
    "    print(progress_widget.value)\n",
    "    update_out()\n",
    "\n",
    "\n",
    "next_button.on_click(update_next_button)\n",
    "prev_button.on_click(update_prev_button)\n",
    "save_button.on_click(lambda btn: save_curr_app_state_to_disk())\n",
    "\n",
    "def update_radio_buttons():\n",
    "    labelled_image_info = get_labelled_image_info()\n",
    "    curr_image_filename = filtered_image_info_df.iloc[progress_widget.value].name\n",
    "    if curr_image_filename in labelled_image_info.index:\n",
    "        for radio_button in radio_buttons:\n",
    "            radio_button.value = labelled_image_info.loc[curr_image_filename][radio_button.description.lower()]\n",
    "    else:\n",
    "        for radio_button in radio_buttons:\n",
    "            radio_button.value = 0\n",
    "            \n",
    "def update_out():\n",
    "    output_widget.clear_output()\n",
    "    if progress_widget.value == END_IDX:\n",
    "        with output_widget:\n",
    "            display(\"Good job, you've finished labelling the images assigned to you!\")\n",
    "        return\n",
    "\n",
    "    update_radio_buttons()    \n",
    "\n",
    "    image.value = open(\n",
    "        filtered_image_info_df.iloc[progress_widget.value].filepath, \"rb\"\n",
    "    ).read()\n",
    "\n",
    "    with output_widget:\n",
    "        display(\n",
    "            widgets.AppLayout(\n",
    "                header=widgets.VBox([header_label, widgets.HBox([progress_widget, progress_label])]),\n",
    "                center=widgets.VBox([image, widgets.HBox(radio_buttons)]),\n",
    "                footer=widgets.HBox([prev_button, save_button, next_button]),\n",
    "                pane_heights=[\"70px\", \"350px\", \"40px\"],\n",
    "            )\n",
    "        )"
   ]
  },
  {
   "cell_type": "code",
   "execution_count": 11,
   "metadata": {
    "tags": []
   },
   "outputs": [
    {
     "data": {
      "application/vnd.jupyter.widget-view+json": {
       "model_id": "8e12853dee1c428c9ea0c121f01cbca0",
       "version_major": 2,
       "version_minor": 0
      },
      "text/plain": [
       "Output(outputs=({'output_type': 'display_data', 'data': {'text/plain': \"AppLayout(children=(VBox(children=(HTM…"
      ]
     },
     "metadata": {},
     "output_type": "display_data"
    }
   ],
   "source": [
    "display(output_widget)\n",
    "update_out()"
   ]
  },
  {
   "cell_type": "code",
   "execution_count": null,
   "metadata": {},
   "outputs": [],
   "source": []
  }
 ],
 "metadata": {
  "kernelspec": {
   "display_name": "Python 3",
   "language": "python",
   "name": "python3"
  },
  "language_info": {
   "codemirror_mode": {
    "name": "ipython",
    "version": 3
   },
   "file_extension": ".py",
   "mimetype": "text/x-python",
   "name": "python",
   "nbconvert_exporter": "python",
   "pygments_lexer": "ipython3",
   "version": "3.8.8"
  }
 },
 "nbformat": 4,
 "nbformat_minor": 5
}
