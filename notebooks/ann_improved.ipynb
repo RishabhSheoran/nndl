{
 "cells": [
  {
   "cell_type": "code",
   "execution_count": null,
   "id": "0d7aaba1-0aec-46fa-aff7-485fca0f5ef9",
   "metadata": {
    "tags": []
   },
   "outputs": [],
   "source": [
    "import sys\n",
    "sys.path.append(\"..\")"
   ]
  },
  {
   "cell_type": "code",
   "execution_count": null,
   "id": "ffe10f9b-960c-4d4d-913a-8e238ae2725f",
   "metadata": {
    "tags": []
   },
   "outputs": [],
   "source": [
    "import torch\n",
    "import torch.nn as nn\n",
    "import torch.nn.functional as F\n",
    "\n",
    "import logging\n",
    "import numpy as np\n",
    "import pandas as pd\n",
    "import matplotlib.pyplot as plt\n",
    "\n",
    "from torch.utils.data import DataLoader\n",
    "from einops import rearrange  # ! pip install einops\n",
    "\n",
    "from src.dataset import ImageDataset"
   ]
  },
  {
   "cell_type": "code",
   "execution_count": null,
   "id": "612d2949-0364-4c83-9271-313152a4aabb",
   "metadata": {},
   "outputs": [],
   "source": [
    "# Set default logging level\n",
    "# Change to logging.INFO to see related output\n",
    "logging.basicConfig(level=logging.INFO, force=True)"
   ]
  },
  {
   "cell_type": "code",
   "execution_count": null,
   "id": "38cef678-1fcd-4b0e-b518-0900a4ed762b",
   "metadata": {
    "tags": []
   },
   "outputs": [],
   "source": [
    "# Used in creating data loaders as well as in train loops\n",
    "BATCH_SIZE = 1"
   ]
  },
  {
   "cell_type": "code",
   "execution_count": null,
   "id": "61874ff8-7c65-44e2-a2b0-ff74b71cff05",
   "metadata": {
    "tags": []
   },
   "outputs": [],
   "source": [
    "train_csv = pd.read_csv(\"../data/processed/train.csv\")\n",
    "\n",
    "train_data = ImageDataset(train_csv, train=True, test=False)\n",
    "valid_data = ImageDataset(train_csv, train=False, test=False)\n",
    "test_data = ImageDataset(train_csv, train=False, test=True)\n",
    "\n",
    "\n",
    "train_loader = DataLoader(train_data, batch_size=BATCH_SIZE, shuffle=True)\n",
    "valid_loader = DataLoader(valid_data, batch_size=BATCH_SIZE, shuffle=False)\n",
    "test_loader = DataLoader(test_data, batch_size=BATCH_SIZE, shuffle=True)"
   ]
  },
  {
   "cell_type": "markdown",
   "id": "be08b442-a101-4a8d-b187-5c6158c1bf12",
   "metadata": {},
   "source": [
    "### Model definition"
   ]
  },
  {
   "cell_type": "code",
   "execution_count": null,
   "id": "a0a79695-89e4-416b-add7-10d548fbc9fd",
   "metadata": {
    "tags": []
   },
   "outputs": [],
   "source": [
    "N_EPHOCS = 10\n",
    "\n",
    "\n",
    "LR = 0.001\n",
    "PATCH_SIZE = 16\n",
    "NUM_ENCODERS = 2"
   ]
  },
  {
   "cell_type": "code",
   "execution_count": null,
   "id": "9db200f2-b2b3-4435-b8bc-b66938d3b8cd",
   "metadata": {
    "tags": []
   },
   "outputs": [],
   "source": [
    "\n",
    "\n",
    "\n",
    "def generate_positional_encoding(seq_length, dim):\n",
    "    assert dim == 2 * (dim // 2)  # check if dim is divisible by 2\n",
    "    pe = torch.zeros(seq_length, dim)\n",
    "    position = torch.arange(0, seq_length, dtype=torch.float).unsqueeze(1)\n",
    "    div_term = torch.exp(\n",
    "        torch.arange(0, dim, 2).float() * (-torch.log(torch.tensor(10000.0)) / dim)\n",
    "    )\n",
    "    pe[:, 0::2] = torch.sin(position * div_term)\n",
    "    pe[:, 1::2] = torch.cos(position * div_term)\n",
    "    return pe\n",
    "\n",
    "\n",
    "class Transformer_encoder(nn.Module):\n",
    "    def __init__(self, hidden_size, nb_heads):\n",
    "        super(Transformer_encoder, self).__init__()\n",
    "        assert hidden_size == nb_heads * (\n",
    "            hidden_size // nb_heads\n",
    "        )  # check if hidden_size is divisible by nb_heads\n",
    "        self.MHA = nn.MultiheadAttention(hidden_size, nb_heads)\n",
    "        self.LLcat = nn.Linear(2 * hidden_size, hidden_size)\n",
    "        self.LL1 = nn.Linear(hidden_size, hidden_size)\n",
    "        self.LL2 = nn.Linear(hidden_size, hidden_size)\n",
    "        self.LN1 = nn.LayerNorm(hidden_size)\n",
    "        self.LN2 = nn.LayerNorm(hidden_size)\n",
    "\n",
    "    def forward(self, g_seq, pos=None):\n",
    "        seq_length = g_seq.size(0)\n",
    "        bs = g_seq.size(1)\n",
    "        pos = pos.unsqueeze(dim=1).repeat_interleave(\n",
    "            bs, dim=1\n",
    "        )  # size=(seq_length, bs, hidden_dim)\n",
    "        logging.info(\"Pos preprocess: \" + str(pos.shape))\n",
    "\n",
    "        h_cat = self.LLcat(\n",
    "            torch.cat((g_seq, pos), dim=2)\n",
    "        )  # size=(seq_length, bs, hidden_dim)\n",
    "        logging.info(\"g_seq + pos : \" + str(h_cat.shape))\n",
    "\n",
    "        h_MHA_seq, _ = self.MHA(h_cat, h_cat, h_cat)\n",
    "        logging.info(\"MHA out : \" + str(h_MHA_seq.shape))\n",
    "\n",
    "        h = self.LN1(h_cat + h_MHA_seq)\n",
    "        logging.info(\"LN1 out : \" + str(h.shape))\n",
    "\n",
    "        h_MLP = self.LL2(torch.relu(self.LL1(h)))  # size=(1, bs, hidden_dim)\n",
    "        h_seq = self.LN2(h + h_MLP)  # size=(1, bs, hidden_dim)\n",
    "        logging.info(\"LN2 out : \" + str(h_seq.shape))\n",
    "\n",
    "        return h_seq\n",
    "\n",
    "\n",
    "class ANN(nn.Module):\n",
    "    def __init__(self, hidden_size, nb_heads):\n",
    "        super(ANN, self).__init__()\n",
    "        self.encoders = [\n",
    "            Transformer_encoder(hidden_size, nb_heads) for _ in range(NUM_ENCODERS)\n",
    "        ]\n",
    "        self.layers = nn.ModuleList(self.encoders)\n",
    "\n",
    "    def forward(self, img, pos=None):\n",
    "        for layer in self.layers:\n",
    "            img = layer(img, pos)  # size=(seq_length, bs, hidden_dim)\n",
    "\n",
    "        return img\n",
    "\n",
    "\n",
    "class attention_net(nn.Module):\n",
    "    def __init__(self, hidden_size, nb_heads, no_classes):\n",
    "        super(attention_net, self).__init__()\n",
    "\n",
    "        self.emb_dropout = nn.Dropout(0)\n",
    "        self.cls_token = nn.Parameter(torch.randn(1, 1, hidden_size))\n",
    "        self.pos_emb1D = nn.Parameter(torch.randn(144 + 1, hidden_size))\n",
    "\n",
    "        self.layer2 = ANN(hidden_size, nb_heads)\n",
    "        self.layer3 = nn.Linear(hidden_size, no_classes)\n",
    "\n",
    "    def expand_cls_to_batch(self, batch):\n",
    "        \"\"\"\n",
    "        Args:\n",
    "            batch: batch size\n",
    "        Returns: cls token expanded to the batch size\n",
    "        \"\"\"\n",
    "        return self.cls_token.expand([batch, -1, -1])\n",
    "\n",
    "    def forward(self, img, pos=None):\n",
    "        bs = img.shape[0]\n",
    "        logging.info(\"Img: \" + str(img.shape))\n",
    "\n",
    "        img_patches = rearrange(\n",
    "            img,\n",
    "            \"b c (patch_x x) (patch_y y) -> b (x y) (patch_x patch_y c)\",\n",
    "            patch_x=PATCH_SIZE,\n",
    "            patch_y=PATCH_SIZE,\n",
    "        )\n",
    "        logging.info(\"Img patches: \" + str(img_patches.shape))\n",
    "\n",
    "        img_patches = torch.cat((self.expand_cls_to_batch(bs), img_patches), dim=1)\n",
    "        logging.info(\"Class Addition: \" + str(img_patches.shape))\n",
    "\n",
    "        patch_embeddings = self.emb_dropout(img_patches + self.pos_emb1D)\n",
    "        logging.info(\"Dropout: \" + str(patch_embeddings.shape))\n",
    "\n",
    "        h_seq = self.layer2(patch_embeddings, pos)\n",
    "        logging.info(\"Transformer out: \" + str(h_seq.shape))\n",
    "\n",
    "        score_seq = self.layer3(h_seq[:, 0, :])\n",
    "\n",
    "        return score_seq"
   ]
  },
  {
   "cell_type": "markdown",
   "id": "4a893e43-4c2b-4409-91d5-757f8444b8c4",
   "metadata": {},
   "source": [
    "### Check if inference works correctly"
   ]
  },
  {
   "cell_type": "code",
   "execution_count": null,
   "id": "39d533b4-70a8-4e2f-89e8-948d7757cec2",
   "metadata": {
    "tags": []
   },
   "outputs": [],
   "source": [
    "nb_heads = 16\n",
    "hidden_size = 768\n",
    "no_classes = 6\n",
    "net = attention_net(hidden_size, nb_heads, no_classes)\n",
    "print(net)\n",
    "dataiter = iter(train_loader)\n",
    "images, labels = dataiter.next().values()\n",
    "seq_length = 144\n",
    "pos = generate_positional_encoding(BATCH_SIZE, 768)\n",
    "scores = net(images.view(BATCH_SIZE, 3, 144, 256), pos)\n",
    "scores.shape\n",
    "print(scores)\n",
    "scores = torch.sigmoid(scores)\n",
    "scores"
   ]
  },
  {
   "cell_type": "code",
   "execution_count": null,
   "id": "abed73e6-6dc3-4e58-8093-4d7cf7ea8314",
   "metadata": {
    "tags": []
   },
   "outputs": [],
   "source": [
    "def display_num_param(net):\n",
    "    nb_param = 0\n",
    "    for param in net.parameters():\n",
    "        nb_param += param.numel()\n",
    "    print('There are {} ({:.2f} million) parameters in this neural network'.format(\n",
    "        nb_param, nb_param/1e6)\n",
    "         )\n",
    "display_num_param(net)"
   ]
  },
  {
   "cell_type": "markdown",
   "id": "718ea345-911c-488f-99c5-d103f2e93d93",
   "metadata": {},
   "source": [
    "### Model instantiation"
   ]
  },
  {
   "cell_type": "code",
   "execution_count": null,
   "id": "d90a1757-10d2-4045-bfd1-60d89f651a42",
   "metadata": {
    "tags": []
   },
   "outputs": [],
   "source": [
    "import torch.optim as optim\n",
    "\n",
    "# Device\n",
    "device = torch.device(\"cuda:0\" if torch.cuda.is_available() else \"cpu\")\n",
    "\n",
    "# Model instance\n",
    "model = attention_net(hidden_size, nb_heads, no_classes)\n",
    "model = model.to(device)\n",
    "criterion = nn.BCELoss()\n",
    "optimizer = optim.Adam(model.parameters(), lr=LR)\n",
    "\n",
    "\n",
    "def get_error(outputs, labels, batch_size):\n",
    "    lab = torch.where(outputs >= 0.5, 1, 0)\n",
    "    indicator = torch.where(lab != labels, 1, 0)\n",
    "    non_matches = torch.sum(indicator, axis=0)\n",
    "    error = non_matches.float() / batch_size\n",
    "    error = error.sum() / 6\n",
    "    return error.item()"
   ]
  },
  {
   "cell_type": "markdown",
   "id": "580e48b8-efd0-4216-998b-b3fd2bb02e21",
   "metadata": {},
   "source": [
    "### Train"
   ]
  },
  {
   "cell_type": "code",
   "execution_count": null,
   "id": "3f6d939e-3836-43a4-9a0f-3a016a24d05d",
   "metadata": {
    "tags": []
   },
   "outputs": [],
   "source": [
    "def validate():\n",
    "    test_err = 0.0\n",
    "    for i, data in enumerate(valid_loader, 0):\n",
    "        inputs, labels = data.values()\n",
    "\n",
    "        outputs = model(inputs.view(BATCH_SIZE, 3, 144, 256).to(device))\n",
    "        outputs = torch.sigmoid(outputs)\n",
    "        #     print((outputs.detach() > 0.5).float(), labels)\n",
    "\n",
    "        test_err += get_error(outputs.detach(), labels.to(device), BATCH_SIZE)\n",
    "\n",
    "    print(\"Validation Error: %.4f\" % (test_err / i))"
   ]
  },
  {
   "cell_type": "code",
   "execution_count": null,
   "id": "0d632b89-0a81-46a1-82ee-a93f4e841a08",
   "metadata": {
    "tags": []
   },
   "outputs": [],
   "source": [
    "for epoch in range(N_EPHOCS):  # loop over the dataset multiple times\n",
    "    train_running_loss = 0.0\n",
    "    train_err = 0.0\n",
    "    model.train()\n",
    "\n",
    "    # TRAINING ROUND\n",
    "    for i, data in enumerate(train_loader):\n",
    "        # zero the parameter gradients\n",
    "        optimizer.zero_grad()\n",
    "\n",
    "        # get the inputs\n",
    "        inputs, labels = data.values()\n",
    "        \n",
    "        inputs = inputs.view(BATCH_SIZE, 3, 144, 256)\n",
    "        inputs = inputs.to(device)\n",
    "        labels = labels.to(device)\n",
    "        pos = generate_positional_encoding(BATCH_SIZE, 768)\n",
    "        pos = pos.to(device)\n",
    "        \n",
    "        outputs = model(inputs, pos)\n",
    "        outputs = torch.sigmoid(outputs)\n",
    "\n",
    "        loss = criterion(outputs, labels)\n",
    "        loss.backward()\n",
    "        optimizer.step()\n",
    "\n",
    "        train_running_loss += loss.detach().item()\n",
    "        train_err += get_error(outputs.detach(), labels, BATCH_SIZE)\n",
    "\n",
    "    model.eval()\n",
    "    print(\n",
    "        \"Epoch:  %d | Loss: %.4f | Train Error: %.4f\"\n",
    "        % (epoch, train_running_loss / i, train_err / i)\n",
    "    )\n",
    "    validate()"
   ]
  },
  {
   "cell_type": "markdown",
   "id": "2130c8d0-f222-460f-ac90-a349ec7821b2",
   "metadata": {
    "tags": []
   },
   "source": [
    "### Test"
   ]
  },
  {
   "cell_type": "code",
   "execution_count": null,
   "id": "4ae0debd-7d26-4b16-b2a8-4d61d97368a0",
   "metadata": {
    "tags": []
   },
   "outputs": [],
   "source": [
    "actors = train_csv.columns.values[2:]\n",
    "print('actors: ', actors)"
   ]
  },
  {
   "cell_type": "code",
   "execution_count": null,
   "id": "cd7498bc",
   "metadata": {
    "tags": []
   },
   "outputs": [],
   "source": [
    "model.eval()\n",
    "\n",
    "test_running_error = 0.0\n",
    "for counter, data in enumerate(test_loader):\n",
    "\n",
    "    image, target = data[\"image\"].to(device), data[\"label\"]\n",
    "    # get all the index positions where value == 1\n",
    "    target_indices = [i for i in range(len(target[0])) if target[0][i] == 1]\n",
    "    #     print('target_indices: ', target_indices)\n",
    "    # get the predictions by passing the image through the model\n",
    "    outputs = model(image)\n",
    "    outputs = torch.sigmoid(outputs)\n",
    "    outputs = outputs.detach().cpu()\n",
    "    lab = torch.where(outputs >= 0.3, 1, 0)[0]\n",
    "    #     print('lab: ', lab)\n",
    "    pred = torch.where(lab == 1)\n",
    "    #     print('pred: ', pred)\n",
    "    error = get_error(outputs, target, 1)\n",
    "    #         print('error: ',error)\n",
    "    test_running_error += error\n",
    "\n",
    "    string_predicted = \"\"\n",
    "    string_actual = \"\"\n",
    "    for i in range(len(pred)):\n",
    "        string_predicted += f\"{actors[pred[i]]}    \"\n",
    "\n",
    "    for i in range(len(target_indices)):\n",
    "        string_actual += f\"{actors[target_indices[i]]}    \"\n",
    "\n",
    "    #     print('image shape: ', image.shape)\n",
    "    if 10 < counter < 20:\n",
    "        image = image.squeeze(0)\n",
    "        image = image.detach().cpu().numpy()\n",
    "        image = np.transpose(image, (1, 2, 0))\n",
    "        plt.imshow(image)\n",
    "        plt.axis(\"off\")\n",
    "        plt.title(f\"PREDICTED: {string_predicted}\\nACTUAL: {string_actual}\")\n",
    "        plt.show()\n",
    "\n",
    "test_error = test_running_error / counter\n",
    "print(f\"Test Error: \", test_error)"
   ]
  }
 ],
 "metadata": {
  "kernelspec": {
   "display_name": "Python 3 (ipykernel)",
   "language": "python",
   "name": "python3"
  },
  "language_info": {
   "codemirror_mode": {
    "name": "ipython",
    "version": 3
   },
   "file_extension": ".py",
   "mimetype": "text/x-python",
   "name": "python",
   "nbconvert_exporter": "python",
   "pygments_lexer": "ipython3",
   "version": "3.9.5"
  }
 },
 "nbformat": 4,
 "nbformat_minor": 5
}
